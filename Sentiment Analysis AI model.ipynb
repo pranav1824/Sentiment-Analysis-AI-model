{
 "cells": [
  {
   "cell_type": "code",
   "execution_count": 1,
   "id": "ebbbc51d-103c-4c77-b088-922e1e5104f3",
   "metadata": {},
   "outputs": [
    {
     "name": "stderr",
     "output_type": "stream",
     "text": [
      "[nltk_data] Downloading package movie_reviews to\n",
      "[nltk_data]     C:\\Users\\gpspr\\AppData\\Roaming\\nltk_data...\n",
      "[nltk_data]   Unzipping corpora\\movie_reviews.zip.\n"
     ]
    },
    {
     "name": "stdout",
     "output_type": "stream",
     "text": [
      "Accuracy: 0.8\n",
      "Classification Report:\n",
      "              precision    recall  f1-score   support\n",
      "\n",
      "         neg       0.80      0.80      0.80       199\n",
      "         pos       0.80      0.80      0.80       201\n",
      "\n",
      "    accuracy                           0.80       400\n",
      "   macro avg       0.80      0.80      0.80       400\n",
      "weighted avg       0.80      0.80      0.80       400\n",
      "\n",
      "pos\n",
      "neg\n",
      "neg\n"
     ]
    }
   ],
   "source": [
    "import nltk\n",
    "import pandas as pd\n",
    "from sklearn.feature_extraction.text import CountVectorizer\n",
    "from sklearn.model_selection import train_test_split\n",
    "from sklearn.naive_bayes import MultinomialNB\n",
    "from sklearn.metrics import accuracy_score, classification_report\n",
    "from nltk.corpus import movie_reviews\n",
    "\n",
    "# to Setup we Install necessary libraries\n",
    "# !pip install nltk pandas scikit-learn\n",
    "\n",
    "nltk.download(\"movie_reviews\")\n",
    "\n",
    "documents = [\n",
    "    (\" \".join(movie_reviews.words(fileid)), category)\n",
    "    for category in movie_reviews.categories()\n",
    "    for fileid in movie_reviews.fileids(category)\n",
    "]\n",
    "\n",
    "df = pd.DataFrame(documents, columns=[\"review\", \"sentiment\"])\n",
    "\n",
    "\n",
    "vectorizer = CountVectorizer(max_features=2000)\n",
    "X = vectorizer.fit_transform(df[\"review\"])\n",
    "y = df[\"sentiment\"]\n",
    "\n",
    "X_train, X_test, y_train, y_test = train_test_split(\n",
    "    X, y, test_size=0.2, random_state=42\n",
    ")\n",
    "\n",
    "# Trained on Naive Bayes classifier\n",
    "model = MultinomialNB()\n",
    "model.fit(X_train, y_train)\n",
    "\n",
    "\n",
    "y_pred = model.predict(X_test)\n",
    "print(f\"Accuracy: {accuracy_score(y_test, y_pred)}\")\n",
    "print(f\"Classification Report:\\n{classification_report(y_test, y_pred)}\")\n",
    "\n",
    "\n",
    "\n",
    "def predict_sentiment(text):\n",
    "    text_vector = vectorizer.transform([text])\n",
    "    prediction = model.predict(text_vector)\n",
    "    return prediction[0]\n",
    "\n",
    "\n",
    "print(predict_sentiment(\"I absolutely loved this movie! It was fantastic.\"))\n",
    "print(predict_sentiment(\"It was a terrible film. I hated it.\"))\n",
    "print(predict_sentiment(\"The movie was okay, nothing special.\"))"
   ]
  },
  {
   "cell_type": "code",
   "execution_count": null,
   "id": "5af14a21-5999-4287-b0fe-04eaa0dbc5c9",
   "metadata": {},
   "outputs": [],
   "source": []
  }
 ],
 "metadata": {
  "kernelspec": {
   "display_name": "Python 3 (ipykernel)",
   "language": "python",
   "name": "python3"
  },
  "language_info": {
   "codemirror_mode": {
    "name": "ipython",
    "version": 3
   },
   "file_extension": ".py",
   "mimetype": "text/x-python",
   "name": "python",
   "nbconvert_exporter": "python",
   "pygments_lexer": "ipython3",
   "version": "3.11.7"
  }
 },
 "nbformat": 4,
 "nbformat_minor": 5
}
